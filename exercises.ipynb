{
 "cells": [
  {
   "cell_type": "code",
   "execution_count": 1,
   "metadata": {
    "autoscroll": false,
    "ein.hycell": false,
    "ein.tags": "worksheet-0",
    "slideshow": {
     "slide_type": "-"
    }
   },
   "outputs": [],
   "source": [
    "library(magrittr)\n",
    "library(MASS)"
   ]
  },
  {
   "cell_type": "markdown",
   "metadata": {
    "ein.tags": "worksheet-0",
    "slideshow": {
     "slide_type": "-"
    }
   },
   "source": [
    "## Refactoring\n",
    "\n",
    "Refactoring code is a very important concept in programming. To \"refactor\" means to change the implementation of some piece of code, without changing the functionality. \n",
    "\n",
    "If your goal with writing code is simply to \"get something to work\" (once), then refactoring is not useful. If, however, your goal is to write elegant code which can be used reliable, extended, and modified, then you will always need to refactor! "
   ]
  },
  {
   "cell_type": "code",
   "execution_count": 2,
   "metadata": {
    "autoscroll": false,
    "ein.hycell": false,
    "ein.tags": "worksheet-0",
    "slideshow": {
     "slide_type": "-"
    }
   },
   "outputs": [],
   "source": [
    "# We will refactor the code from the \"Functions in R\" lecture. \n",
    "\n",
    "# Using the ideas from the slides, make \"generate_data\" a polymorphic function.\n",
    "# It should operate on two classes: \"univariate_params\" and \"multivariate_params\"\n",
    "# and two separate \"methods\" should be implemented for each of the classes "
   ]
  },
  {
   "cell_type": "code",
   "execution_count": 272,
   "metadata": {
    "autoscroll": false,
    "ein.hycell": false,
    "ein.tags": "worksheet-0",
    "slideshow": {
     "slide_type": "slide"
    }
   },
   "outputs": [],
   "source": [
    "# The implementation of the class is up to you! So write the params class to\n",
    "# match your design. \n",
    "\n",
    "# beta should be c(1,2,1)\n",
    "# mean of X's should be c(0,0,0)\n",
    "# sd of X's should be c(.2,.5,.3)\n",
    "# noise sd should be .5\n",
    "\n",
    "# params <- list(c(1,2,1),c(0,0,0), c(.2,.5,.3),.5)\n",
    "# class(params) <- \"multivariate_params\"\n",
    "\n",
    "params <- list(c(1,2,1),.5)\n",
    "class(params) <- \"univariate_params\"\n",
    "\n",
    "library(MASS)\n",
    "\n",
    "generate_data <- function(params, N) {\n",
    "    UseMethod(\"generate_data\")\n",
    "}    \n",
    "\n",
    "generate_data.multivariate_params <- function(params, N) { \n",
    "    beta <- params[[1]]\n",
    "    sd <- params[[4]]\n",
    "    x <- MASS::mvrnorm(N, params[[2]], diag(params[[3]]))\n",
    "    eps <- rnorm(N, 0, sd)\n",
    "    y <- x %*% beta + eps\n",
    "    list(x=x, y=y)\n",
    "}\n",
    "\n",
    "generate_data.univariate_params <- function(params, N) {\n",
    "    beta <- params[[1]]\n",
    "    sd <- params[[2]]\n",
    "    x <- rnorm(N, 0, 1)\n",
    "    eps <- rnorm(N, 0, sd)\n",
    "    y <- beta*x + eps\n",
    "    list(x = x, y = y)\n",
    "}"
   ]
  },
  {
   "cell_type": "code",
   "execution_count": 273,
   "metadata": {},
   "outputs": [],
   "source": [
    "calc_coef <- function(params, y, x) {\n",
    "    UseMethod(\"calc_coef\")\n",
    "}\n",
    "\n",
    "calc_coef.multivariate_params <- function(params, y,x) lm(y~x -1)$coef\n",
    "\n",
    "calc_coef.univariate_params <- function(params, y,x) cov(x,y) / var(x)"
   ]
  },
  {
   "cell_type": "code",
   "execution_count": 274,
   "metadata": {},
   "outputs": [],
   "source": [
    "# calc_se <- function(params, y, x, coef) {\n",
    "#     UseMethod(\"calc_se\")\n",
    "# }\n",
    "\n",
    "# calc_se.multivariate_params <- function(params, y, x, coef) {\n",
    "#     n <- length(y)\n",
    "#     eps <- y - x %*% coef\n",
    "#     e_sd <- mean(eps^2)\n",
    "#     se <- sqrt(e_sd / diag(n*var(x)))\n",
    "#     se\n",
    "# }\n",
    "\n",
    "# calc_se.univariate_params <- function(params, y, x, coef) {\n",
    "#     n <- length(y)\n",
    "#     eps <- y - x * coef\n",
    "#     e_sd <- mean(eps^2)\n",
    "#     se <- sqrt(e_sd / diag(n*var(x)))\n",
    "#     se\n",
    "# }\n",
    "\n",
    "calc_se <- function(params, y, x, coef) {\n",
    "    n <- length(y)\n",
    "    eps <- y - x * coef\n",
    "    e_sd <- mean(eps^2)\n",
    "    se <- sqrt(e_sd / diag(n*var(x)))\n",
    "    se\n",
    "}\n"
   ]
  },
  {
   "cell_type": "code",
   "execution_count": 275,
   "metadata": {},
   "outputs": [],
   "source": [
    "run_regression <- function(y, x) {\n",
    "    coef <- calc_coef(params, y, x)\n",
    "    se <- calc_se(y, x, coef)\n",
    "#     se <- calc_se(params, y, x, coef)\n",
    "    list(coef=coef, se=se)\n",
    "}"
   ]
  },
  {
   "cell_type": "code",
   "execution_count": 276,
   "metadata": {},
   "outputs": [],
   "source": [
    "eval_model <- function(coef, se, beta, conf = 1.96) {\n",
    "    up <- coef + se*conf\n",
    "    down <- coef - se*conf\n",
    "    beta > down & beta < up\n",
    "}"
   ]
  },
  {
   "cell_type": "code",
   "execution_count": 277,
   "metadata": {},
   "outputs": [],
   "source": [
    "# simulate <- function(N, beta, params, sd) {\n",
    "#     d <- generate_data(N, beta, params, sd)\n",
    "#     m <- run_regression(d$y, d$x)\n",
    "#     eval_model(m$coef, m$se, beta)\n",
    "# }\n",
    "simulate <- function(N, params) {\n",
    "    d <- generate_data(params, N)\n",
    "    m <- run_regression(d$y, d$x)\n",
    "    eval_model(m$coef, m$se, params[[1]])\n",
    "}"
   ]
  },
  {
   "cell_type": "code",
   "execution_count": 278,
   "metadata": {},
   "outputs": [],
   "source": [
    "# avg_simulations <- function(M, N, beta, params, sd) {\n",
    "#     inside <- sapply(1:M, function (x) {\n",
    "#         simulate(N, beta, params, sd)\n",
    "#     })\n",
    "#     sum(inside) / M / 3\n",
    "# }\n",
    "avg_simulations <- function(M, N, params) {\n",
    "    inside <- sapply(1:M, function (x) {\n",
    "        simulate(N, params)\n",
    "    })\n",
    "    sum(inside) / M / 3\n",
    "}"
   ]
  },
  {
   "cell_type": "code",
   "execution_count": 279,
   "metadata": {
    "autoscroll": false,
    "ein.hycell": false,
    "ein.tags": "worksheet-0",
    "slideshow": {
     "slide_type": "-"
    }
   },
   "outputs": [
    {
     "name": "stderr",
     "output_type": "stream",
     "text": [
      "Warning message in beta * x:\n",
      "“longer object length is not a multiple of shorter object length”"
     ]
    },
    {
     "ename": "ERROR",
     "evalue": "Error in calc_se(y, x, coef): argument \"coef\" is missing, with no default\n",
     "output_type": "error",
     "traceback": [
      "Error in calc_se(y, x, coef): argument \"coef\" is missing, with no default\nTraceback:\n",
      "1. avg_simulations(1000, 20, params)",
      "2. sapply(1:M, function(x) {\n .     simulate(N, params)\n . })   # at line 8-10 of file <text>",
      "3. lapply(X = X, FUN = FUN, ...)",
      "4. FUN(X[[i]], ...)",
      "5. simulate(N, params)   # at line 9 of file <text>",
      "6. run_regression(d$y, d$x)   # at line 8 of file <text>",
      "7. calc_se(y, x, coef)   # at line 3 of file <text>"
     ]
    }
   ],
   "source": [
    "a <- avg_simulations(1000, 20, params)\n",
    "stopifnot(round(a, 1) == .9)"
   ]
  },
  {
   "cell_type": "code",
   "execution_count": 239,
   "metadata": {
    "autoscroll": false,
    "ein.hycell": false,
    "ein.tags": "worksheet-0",
    "slideshow": {
     "slide_type": "-"
    }
   },
   "outputs": [],
   "source": [
    "a <- avg_simulations(1000, 500, params)\n",
    "stopifnot(a > .92)"
   ]
  },
  {
   "cell_type": "code",
   "execution_count": null,
   "metadata": {
    "autoscroll": false,
    "ein.hycell": false,
    "ein.tags": "worksheet-0",
    "slideshow": {
     "slide_type": "-"
    }
   },
   "outputs": [],
   "source": [
    "# BONUS\n",
    "\n",
    "# The calc_coef and calc_se functions, in their multivariate form, are \n",
    "# naturally a generalization, and work for univariate data do. \n",
    "\n",
    "# But let's pretend they're not. \n",
    "\n",
    "# Write them as polymorphic functions, such that when you simulation gets called\n",
    "# with univariate data, the (from-the-slides) univariate formula gets called, \n",
    "# and the (from-your-exersizes) multivariate formula gets called when \n",
    "# multivariate parameters are given to the simulations. \n",
    "\n",
    "# Note: be creative in your design! Add more classes if you think it helps!\n",
    "# Think about which functions you want to be class-agnostic and which to be\n",
    "# class-aware! "
   ]
  }
 ],
 "metadata": {
  "kernelspec": {
   "display_name": "R",
   "language": "R",
   "name": "ir"
  },
  "language_info": {
   "codemirror_mode": "r",
   "file_extension": ".r",
   "mimetype": "text/x-r-source",
   "name": "R",
   "pygments_lexer": "r",
   "version": "3.4.1"
  },
  "name": "Untitled.ipynb"
 },
 "nbformat": 4,
 "nbformat_minor": 2
}
