{
 "cells": [
  {
   "cell_type": "code",
   "execution_count": 1,
   "metadata": {
    "autoscroll": false,
    "ein.hycell": false,
    "ein.tags": "worksheet-0",
    "slideshow": {
     "slide_type": "-"
    }
   },
   "outputs": [],
   "source": [
    "library(magrittr)\n",
    "library(MASS)"
   ]
  },
  {
   "cell_type": "markdown",
   "metadata": {
    "ein.tags": "worksheet-0",
    "slideshow": {
     "slide_type": "-"
    }
   },
   "source": [
    "## Refactoring\n",
    "\n",
    "Refactoring code is a very important concept in programming. To \"refactor\" means to change the implementation of some piece of code, without changing the functionality. \n",
    "\n",
    "If your goal with writing code is simply to \"get something to work\" (once), then refactoring is not useful. If, however, your goal is to write elegant code which can be used reliable, extended, and modified, then you will always need to refactor! "
   ]
  },
  {
   "cell_type": "code",
   "execution_count": null,
   "metadata": {
    "autoscroll": false,
    "ein.hycell": false,
    "ein.tags": "worksheet-0",
    "slideshow": {
     "slide_type": "-"
    }
   },
   "outputs": [],
   "source": [
    "# We will refactor the code from the \"Functions in R\" lecture. \n",
    "\n",
    "# Using the ideas from the slides, make \"generate_data\" a polymorphic function.\n",
    "# It should operate on two classes: \"univariate_params\" and \"multivariate_params\"\n",
    "# and two separate \"methods\" should be implemented for each of the classes "
   ]
  },
  {
   "cell_type": "code",
   "execution_count": null,
   "metadata": {
    "autoscroll": false,
    "ein.hycell": false,
    "ein.tags": "worksheet-0",
    "slideshow": {
     "slide_type": "slide"
    }
   },
   "outputs": [],
   "source": [
    "# The implementation of the class is up to you! So write the params class to\n",
    "# match your design. \n",
    "\n",
    "# beta should be c(1,2,1)\n",
    "# mean of X's should be c(0,0,0)\n",
    "# sd of X's should be c(.2,.5,.3)\n",
    "# noise sd should be .5\n",
    "\n",
    "generate_data <- function (params) {\n",
    "    UseMethod(\"generate_data\")\n",
    "}\n",
    "\n",
    "generate_data.multivariate_params <- function(params) {\n",
    "        \n",
    "       N <- params$N\n",
    "       beta <- params$beta\n",
    "       params1 <- cbind(params$means, params$sd)\n",
    "       sd <- params$noise \n",
    "    \n",
    "       x <- apply(params1, 1, function(x) rnorm(N, mean = x[1], sd = x[2]))\n",
    "       x <- cbind(rep(1, N), x)\n",
    "       eps <- rnorm(N, 0, sd)\n",
    "       y <- x%*%beta + eps\n",
    "       list(x = x, y = y)\n",
    "       \n",
    "}\n",
    "                  \n",
    "generate_data.univariate_params <- function (N, beta, sd) {\n",
    "    \n",
    "       N <- params$N\n",
    "       beta <- params$beta\n",
    "       sd <- params$noise\n",
    "    \n",
    "       x <- rnorm(N, 0, 1)\n",
    "       eps <- rnorm(N, 0, sd)\n",
    "       y <- beta*x + eps\n",
    "       list(x = x, y = y)\n",
    "}\n",
    "                  \n",
    "calc_coef <- function(y,x) {\n",
    "  coef <- solve(t(x)%*%x, t(x)%*%y)\n",
    "  coef\n",
    "}\n",
    "                  \n",
    "calc_se <- function(y, x, coef) {\n",
    "      \n",
    "      eps <- y - x %*% coef\n",
    "      sigma2 <- (t(eps) %*% eps) / (nrow(x) - ncol(x))\n",
    "      varmatrix <- c(sigma2) * solve(t(x) %*% x)\n",
    "      se<- sqrt(diag(varmatrix))\n",
    "}\n",
    "\n",
    "run_regression <- function(y, x) {\n",
    "    coef <- calc_coef(y, x)\n",
    "    se <- calc_se(y, x, coef)\n",
    "    model <- list(coef=coef, se=se)\n",
    "    class(model) <- \"simple_model\"\n",
    "    model\n",
    "}\n",
    "                  \n",
    "                \n",
    " eval_model <- function(model, beta, conf = 1.96) {\n",
    "    UseMethod(\"eval_model\")\n",
    "}\n",
    "                \n",
    "                  \n",
    "eval_model.simple_model <- function(model, beta, conf = 1.96) {\n",
    "    coef <- model$coef\n",
    "    se <- model$se\n",
    "    up <- coef + se*conf\n",
    "    down <- coef - se*conf\n",
    "    beta > down & beta < up\n",
    "}\n",
    "\n",
    "                  \n",
    "simulate <- function(N, beta, params, sd) {\n",
    "       d <- generate_data(N, beta, params, sd)\n",
    "       m <- run_regression(d$y, d$x)\n",
    "       eval_model(m$coef, m$se, beta)\n",
    "  }\n",
    "\n",
    "                  \n",
    "avg_simulations <- function(M, N, beta, params, sd) {\n",
    "       inside <- sapply(1:M, function (x) {\n",
    "           simulate(N, beta, params, sd)\n",
    "})\n",
    "       sum(inside) / M\n",
    "   }\n",
    "                  \n",
    "\n",
    "\n",
    "\n",
    "\n",
    "params <- list(N = N, beta = beta, means = params1, sd = sd, noise = noise)\n",
    "class(params) <- c(\"univariate\", \"multivariate_params\") "
   ]
  },
  {
   "cell_type": "code",
   "execution_count": null,
   "metadata": {
    "autoscroll": false,
    "ein.hycell": false,
    "ein.tags": "worksheet-0",
    "slideshow": {
     "slide_type": "-"
    }
   },
   "outputs": [],
   "source": [
    "a <- avg_simulations(1000, 20, params)\n",
    "stopifnot(round(a, 1) == .9)"
   ]
  },
  {
   "cell_type": "code",
   "execution_count": null,
   "metadata": {
    "autoscroll": false,
    "ein.hycell": false,
    "ein.tags": "worksheet-0",
    "slideshow": {
     "slide_type": "-"
    }
   },
   "outputs": [],
   "source": [
    "a <- avg_simulations(1000, 500, params)\n",
    "stopifnot(a > .92)"
   ]
  },
  {
   "cell_type": "code",
   "execution_count": null,
   "metadata": {
    "autoscroll": false,
    "ein.hycell": false,
    "ein.tags": "worksheet-0",
    "slideshow": {
     "slide_type": "-"
    }
   },
   "outputs": [],
   "source": [
    "# BONUS\n",
    "\n",
    "# The calc_coef and calc_se functions, in their multivariate form, are \n",
    "# naturally a generalization, and work for univariate data do. \n",
    "\n",
    "# But let's pretend they're not. \n",
    "\n",
    "# Write them as polymorphic functions, such that when you simulation gets called\n",
    "# with univariate data, the (from-the-slides) univariate formula gets called, \n",
    "# and the (from-your-exersizes) multivariate formula gets called when \n",
    "# multivariate parameters are given to the simulations. \n",
    "\n",
    "# Note: be creative in your design! Add more classes if you think it helps!\n",
    "# Think about which functions you want to be class-agnostic and which to be\n",
    "# class-aware! \n",
    "\n",
    "\n"
   ]
  }
 ],
 "metadata": {
  "kernelspec": {
   "display_name": "R",
   "language": "R",
   "name": "ir"
  },
  "language_info": {
   "codemirror_mode": "r",
   "file_extension": ".r",
   "mimetype": "text/x-r-source",
   "name": "R",
   "pygments_lexer": "r",
   "version": "3.4.1"
  },
  "name": "Untitled.ipynb"
 },
 "nbformat": 4,
 "nbformat_minor": 2
}
